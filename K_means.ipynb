{
  "nbformat": 4,
  "nbformat_minor": 0,
  "metadata": {
    "colab": {
      "provenance": [],
      "include_colab_link": true
    },
    "kernelspec": {
      "name": "python3",
      "display_name": "Python 3"
    },
    "language_info": {
      "name": "python"
    }
  },
  "cells": [
    {
      "cell_type": "markdown",
      "metadata": {
        "id": "view-in-github",
        "colab_type": "text"
      },
      "source": [
        "<a href=\"https://colab.research.google.com/github/Xmagnop/Classification-Algorithms/blob/main/K_means.ipynb\" target=\"_parent\"><img src=\"https://colab.research.google.com/assets/colab-badge.svg\" alt=\"Open In Colab\"/></a>"
      ]
    },
    {
      "cell_type": "markdown",
      "source": [
        "#Inicialização Random"
      ],
      "metadata": {
        "id": "P1P_KC2EWjZc"
      }
    },
    {
      "cell_type": "code",
      "source": [
        "import numpy as np\n",
        "import cv2 as cv\n",
        "from matplotlib import pyplot as plt\n",
        "\n",
        "# Gerar dados com 50 amostras\n",
        "X = np.random.randint(25, 50, (50, 2))\n",
        "Y = np.random.randint(60, 85, (50, 2))\n",
        "Z = np.vstack((X, Y))\n",
        "Z = np.float32(Z)\n",
        "\n",
        "# Definir critérios\n",
        "criteria = (cv.TERM_CRITERIA_EPS + cv.TERM_CRITERIA_MAX_ITER, 10, 1.0)\n",
        "\n",
        "# Aplicar K-means++ initialization\n",
        "ret, label, center = cv.kmeans(Z, 2, None, criteria, 10, cv.KMEANS_PP_CENTERS)\n",
        "\n",
        "# Função para plotar os resultados\n",
        "def plot_clusters(Z, labels, centers, title):\n",
        "    A = Z[labels.ravel() == 0]\n",
        "    B = Z[labels.ravel() == 1]\n",
        "    plt.scatter(A[:, 0], A[:, 1], label='Cluster 1')\n",
        "    plt.scatter(B[:, 0], B[:, 1], c='r', label='Cluster 2')\n",
        "    plt.scatter(centers[:, 0], centers[:, 1], s=80, c='y', marker='s', label='Centroids')\n",
        "    plt.title(title)\n",
        "    plt.xlabel('Height')\n",
        "    plt.ylabel('Weight')\n",
        "    plt.legend()\n",
        "    plt.show()\n",
        "\n",
        "# Plotar os resultados\n",
        "plot_clusters(Z, label, center, 'K-means++ Initialization with 50 Samples')\n"
      ],
      "metadata": {
        "id": "U83qY3-wWdib"
      },
      "execution_count": null,
      "outputs": []
    },
    {
      "cell_type": "markdown",
      "source": [
        "#Inicialização K++"
      ],
      "metadata": {
        "id": "bCeU7oEiWqIj"
      }
    },
    {
      "cell_type": "code",
      "source": [
        "import numpy as np\n",
        "import cv2 as cv\n",
        "from matplotlib import pyplot as plt\n",
        "\n",
        "# Gerar dados com 100 amostras\n",
        "X = np.random.randint(25, 50, (100, 2))\n",
        "Y = np.random.randint(60, 85, (100, 2))\n",
        "Z = np.vstack((X, Y))\n",
        "Z = np.float32(Z)\n",
        "\n",
        "# Definir critérios\n",
        "criteria = (cv.TERM_CRITERIA_EPS + cv.TERM_CRITERIA_MAX_ITER, 10, 1.0)\n",
        "\n",
        "# Aplicar Random initialization\n",
        "ret, label, center = cv.kmeans(Z, 2, None, criteria, 10, cv.KMEANS_RANDOM_CENTERS)\n",
        "\n",
        "# Função para plotar os resultados\n",
        "def plot_clusters(Z, labels, centers, title):\n",
        "    A = Z[labels.ravel() == 0]\n",
        "    B = Z[labels.ravel() == 1]\n",
        "    plt.scatter(A[:, 0], A[:, 1], label='Cluster 1')\n",
        "    plt.scatter(B[:, 0], B[:, 1], c='r', label='Cluster 2')\n",
        "    plt.scatter(centers[:, 0], centers[:, 1], s=80, c='y', marker='s', label='Centroids')\n",
        "    plt.title(title)\n",
        "    plt.xlabel('Height')\n",
        "    plt.ylabel('Weight')\n",
        "    plt.legend()\n",
        "    plt.show()\n",
        "\n",
        "# Plotar os resultados\n",
        "plot_clusters(Z, label, center, 'Random Initialization with 100 Samples')\n"
      ],
      "metadata": {
        "id": "W1-7tYvcWmfr"
      },
      "execution_count": null,
      "outputs": []
    }
  ]
}